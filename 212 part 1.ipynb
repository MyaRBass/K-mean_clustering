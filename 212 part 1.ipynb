{
 "cells": [
  {
   "cell_type": "code",
   "execution_count": 41,
   "metadata": {},
   "outputs": [],
   "source": [
    "import pandas as pd\n",
    "from sklearn.cluster import KMeans\n",
    "from sklearn.metrics import silhouette_samples, silhouette_score\n",
    "import matplotlib.pyplot as plt\n",
    "import numpy as np\n"
   ]
  },
  {
   "cell_type": "code",
   "execution_count": 42,
   "metadata": {},
   "outputs": [],
   "source": [
    "medical_clean_path = r'C:\\Users\\mbray\\OneDrive\\Documents\\212\\medical_clean.csv'\n"
   ]
  },
  {
   "cell_type": "code",
   "execution_count": 43,
   "metadata": {},
   "outputs": [],
   "source": [
    "df = pd.read_csv(medical_clean_path)"
   ]
  },
  {
   "cell_type": "code",
   "execution_count": 44,
   "metadata": {},
   "outputs": [
    {
     "name": "stdout",
     "output_type": "stream",
     "text": [
      "   CaseOrder Customer_id                           Interaction  \\\n",
      "0          1     C412403  8cd49b13-f45a-4b47-a2bd-173ffa932c2f   \n",
      "1          2     Z919181  d2450b70-0337-4406-bdbb-bc1037f1734c   \n",
      "2          3     F995323  a2057123-abf5-4a2c-abad-8ffe33512562   \n",
      "3          4     A879973  1dec528d-eb34-4079-adce-0d7a40e82205   \n",
      "4          5     C544523  5885f56b-d6da-43a3-8760-83583af94266   \n",
      "\n",
      "                                UID          City State        County    Zip  \\\n",
      "0  3a83ddb66e2ae73798bdf1d705dc0932           Eva    AL        Morgan  35621   \n",
      "1  176354c5eef714957d486009feabf195      Marianna    FL       Jackson  32446   \n",
      "2  e19a0fa00aeda885b8a436757e889bc9   Sioux Falls    SD     Minnehaha  57110   \n",
      "3  cd17d7b6d152cb6f23957346d11c3f07  New Richland    MN        Waseca  56072   \n",
      "4  d2f0425877b10ed6bb381f3e2579424a    West Point    VA  King William  23181   \n",
      "\n",
      "        Lat       Lng  ...  TotalCharge Additional_charges Item1 Item2  Item3  \\\n",
      "0  34.34960 -86.72508  ...  3726.702860       17939.403420     3     3      2   \n",
      "1  30.84513 -85.22907  ...  4193.190458       17612.998120     3     4      3   \n",
      "2  43.54321 -96.63772  ...  2434.234222       17505.192460     2     4      4   \n",
      "3  43.89744 -93.51479  ...  2127.830423       12993.437350     3     5      5   \n",
      "4  37.59894 -76.88958  ...  2113.073274        3716.525786     2     1      3   \n",
      "\n",
      "   Item4  Item5 Item6 Item7 Item8  \n",
      "0      2      4     3     3     4  \n",
      "1      4      4     4     3     3  \n",
      "2      4      3     4     3     3  \n",
      "3      3      4     5     5     5  \n",
      "4      3      5     3     4     3  \n",
      "\n",
      "[5 rows x 50 columns]\n"
     ]
    }
   ],
   "source": [
    "print(df.head())"
   ]
  },
  {
   "cell_type": "code",
   "execution_count": 45,
   "metadata": {},
   "outputs": [
    {
     "name": "stdout",
     "output_type": "stream",
     "text": [
      "<class 'pandas.core.frame.DataFrame'>\n",
      "RangeIndex: 10000 entries, 0 to 9999\n",
      "Data columns (total 50 columns):\n",
      " #   Column              Non-Null Count  Dtype  \n",
      "---  ------              --------------  -----  \n",
      " 0   CaseOrder           10000 non-null  int64  \n",
      " 1   Customer_id         10000 non-null  object \n",
      " 2   Interaction         10000 non-null  object \n",
      " 3   UID                 10000 non-null  object \n",
      " 4   City                10000 non-null  object \n",
      " 5   State               10000 non-null  object \n",
      " 6   County              10000 non-null  object \n",
      " 7   Zip                 10000 non-null  int64  \n",
      " 8   Lat                 10000 non-null  float64\n",
      " 9   Lng                 10000 non-null  float64\n",
      " 10  Population          10000 non-null  int64  \n",
      " 11  Area                10000 non-null  object \n",
      " 12  TimeZone            10000 non-null  object \n",
      " 13  Job                 10000 non-null  object \n",
      " 14  Children            10000 non-null  int64  \n",
      " 15  Age                 10000 non-null  int64  \n",
      " 16  Income              10000 non-null  float64\n",
      " 17  Marital             10000 non-null  object \n",
      " 18  Gender              10000 non-null  object \n",
      " 19  ReAdmis             10000 non-null  object \n",
      " 20  VitD_levels         10000 non-null  float64\n",
      " 21  Doc_visits          10000 non-null  int64  \n",
      " 22  Full_meals_eaten    10000 non-null  int64  \n",
      " 23  vitD_supp           10000 non-null  int64  \n",
      " 24  Soft_drink          10000 non-null  object \n",
      " 25  Initial_admin       10000 non-null  object \n",
      " 26  HighBlood           10000 non-null  object \n",
      " 27  Stroke              10000 non-null  object \n",
      " 28  Complication_risk   10000 non-null  object \n",
      " 29  Overweight          10000 non-null  object \n",
      " 30  Arthritis           10000 non-null  object \n",
      " 31  Diabetes            10000 non-null  object \n",
      " 32  Hyperlipidemia      10000 non-null  object \n",
      " 33  BackPain            10000 non-null  object \n",
      " 34  Anxiety             10000 non-null  object \n",
      " 35  Allergic_rhinitis   10000 non-null  object \n",
      " 36  Reflux_esophagitis  10000 non-null  object \n",
      " 37  Asthma              10000 non-null  object \n",
      " 38  Services            10000 non-null  object \n",
      " 39  Initial_days        10000 non-null  float64\n",
      " 40  TotalCharge         10000 non-null  float64\n",
      " 41  Additional_charges  10000 non-null  float64\n",
      " 42  Item1               10000 non-null  int64  \n",
      " 43  Item2               10000 non-null  int64  \n",
      " 44  Item3               10000 non-null  int64  \n",
      " 45  Item4               10000 non-null  int64  \n",
      " 46  Item5               10000 non-null  int64  \n",
      " 47  Item6               10000 non-null  int64  \n",
      " 48  Item7               10000 non-null  int64  \n",
      " 49  Item8               10000 non-null  int64  \n",
      "dtypes: float64(7), int64(16), object(27)\n",
      "memory usage: 3.8+ MB\n",
      "None\n"
     ]
    }
   ],
   "source": [
    "# Check the structure of the DataFrame\n",
    "print(df.info())"
   ]
  },
  {
   "cell_type": "code",
   "execution_count": 46,
   "metadata": {},
   "outputs": [
    {
     "name": "stdout",
     "output_type": "stream",
     "text": [
      "CaseOrder               int64\n",
      "Customer_id            object\n",
      "Interaction            object\n",
      "UID                    object\n",
      "City                   object\n",
      "State                  object\n",
      "County                 object\n",
      "Zip                     int64\n",
      "Lat                   float64\n",
      "Lng                   float64\n",
      "Population              int64\n",
      "Area                   object\n",
      "TimeZone               object\n",
      "Job                    object\n",
      "Children                int64\n",
      "Age                     int64\n",
      "Income                float64\n",
      "Marital                object\n",
      "Gender                 object\n",
      "ReAdmis                object\n",
      "VitD_levels           float64\n",
      "Doc_visits              int64\n",
      "Full_meals_eaten        int64\n",
      "vitD_supp               int64\n",
      "Soft_drink             object\n",
      "Initial_admin          object\n",
      "HighBlood              object\n",
      "Stroke                 object\n",
      "Complication_risk      object\n",
      "Overweight             object\n",
      "Arthritis              object\n",
      "Diabetes               object\n",
      "Hyperlipidemia         object\n",
      "BackPain               object\n",
      "Anxiety                object\n",
      "Allergic_rhinitis      object\n",
      "Reflux_esophagitis     object\n",
      "Asthma                 object\n",
      "Services               object\n",
      "Initial_days          float64\n",
      "TotalCharge           float64\n",
      "Additional_charges    float64\n",
      "Item1                   int64\n",
      "Item2                   int64\n",
      "Item3                   int64\n",
      "Item4                   int64\n",
      "Item5                   int64\n",
      "Item6                   int64\n",
      "Item7                   int64\n",
      "Item8                   int64\n",
      "dtype: object\n"
     ]
    }
   ],
   "source": [
    "# Check the data types of each column\n",
    "print(df.dtypes)\n"
   ]
  },
  {
   "cell_type": "code",
   "execution_count": 47,
   "metadata": {},
   "outputs": [
    {
     "name": "stdout",
     "output_type": "stream",
     "text": [
      "CaseOrder             0\n",
      "Customer_id           0\n",
      "Interaction           0\n",
      "UID                   0\n",
      "City                  0\n",
      "State                 0\n",
      "County                0\n",
      "Zip                   0\n",
      "Lat                   0\n",
      "Lng                   0\n",
      "Population            0\n",
      "Area                  0\n",
      "TimeZone              0\n",
      "Job                   0\n",
      "Children              0\n",
      "Age                   0\n",
      "Income                0\n",
      "Marital               0\n",
      "Gender                0\n",
      "ReAdmis               0\n",
      "VitD_levels           0\n",
      "Doc_visits            0\n",
      "Full_meals_eaten      0\n",
      "vitD_supp             0\n",
      "Soft_drink            0\n",
      "Initial_admin         0\n",
      "HighBlood             0\n",
      "Stroke                0\n",
      "Complication_risk     0\n",
      "Overweight            0\n",
      "Arthritis             0\n",
      "Diabetes              0\n",
      "Hyperlipidemia        0\n",
      "BackPain              0\n",
      "Anxiety               0\n",
      "Allergic_rhinitis     0\n",
      "Reflux_esophagitis    0\n",
      "Asthma                0\n",
      "Services              0\n",
      "Initial_days          0\n",
      "TotalCharge           0\n",
      "Additional_charges    0\n",
      "Item1                 0\n",
      "Item2                 0\n",
      "Item3                 0\n",
      "Item4                 0\n",
      "Item5                 0\n",
      "Item6                 0\n",
      "Item7                 0\n",
      "Item8                 0\n",
      "dtype: int64\n"
     ]
    }
   ],
   "source": [
    "print(df.isnull().sum())"
   ]
  },
  {
   "cell_type": "code",
   "execution_count": 48,
   "metadata": {},
   "outputs": [
    {
     "name": "stdout",
     "output_type": "stream",
     "text": [
      "Total number of duplicate rows: 0\n"
     ]
    }
   ],
   "source": [
    "# Check for duplicates\n",
    "duplicates = df.duplicated()\n",
    "\n",
    "# Display the total number of duplicate rows\n",
    "num_duplicates = duplicates.sum()\n",
    "print(f'Total number of duplicate rows: {num_duplicates}')\n",
    "\n",
    "if num_duplicates > 0:\n",
    "    duplicate_rows = df[duplicates]\n",
    "    print(duplicate_rows)"
   ]
  },
  {
   "cell_type": "code",
   "execution_count": 49,
   "metadata": {},
   "outputs": [
    {
     "name": "stdout",
     "output_type": "stream",
     "text": [
      "Total number of outliers found using IQR: 1588\n"
     ]
    }
   ],
   "source": [
    "categorical = [\n",
    "    'VitD_levels',\n",
    "    'Initial_days',\n",
    "    'TotalCharge',\n",
    "    'Additional_charges',\n",
    "    'Age',\n",
    "    'Income',\n",
    "    'Doc_visits',\n",
    "    'Full_meals_eaten',\n",
    "    'Population'\n",
    "]\n",
    "\n",
    "# Function to identify outliers using IQR for specified columns\n",
    "def find_outliers_iqr(df, columns):\n",
    "    outlier_indices = []\n",
    "    \n",
    "    for col in columns:\n",
    "        Q1 = df[col].quantile(0.25)\n",
    "        Q3 = df[col].quantile(0.75)\n",
    "        IQR = Q3 - Q1\n",
    "        \n",
    "        lower_bound = Q1 - 1.5 * IQR\n",
    "        upper_bound = Q3 + 1.5 * IQR\n",
    "        \n",
    "        # Identify outliers\n",
    "        outliers = df[(df[col] < lower_bound) | (df[col] > upper_bound)]\n",
    "        outlier_indices.extend(outliers.index.tolist())\n",
    "        \n",
    "    return set(outlier_indices)\n",
    "\n",
    "# Get unique outlier indices\n",
    "outlier_indices_iqr = find_outliers_iqr(df, categorical)\n",
    "print(f'Total number of outliers found using IQR: {len(outlier_indices_iqr)}')"
   ]
  },
  {
   "cell_type": "code",
   "execution_count": 50,
   "metadata": {},
   "outputs": [],
   "source": [
    "dataset = df.copy()"
   ]
  },
  {
   "cell_type": "code",
   "execution_count": 51,
   "metadata": {},
   "outputs": [],
   "source": [
    "dataset = dataset.drop(columns=['CaseOrder','Customer_id','Interaction', 'UID', 'Lat', 'Lng','City', 'Zip','State', 'Area', 'Children', 'TimeZone', 'County', 'Job', 'Marital', 'Gender', 'vitD_supp', 'Soft_drink', 'Initial_admin', 'HighBlood', 'Stroke', 'Complication_risk', 'Overweight', 'Arthritis', 'Diabetes', 'Hyperlipidemia', 'BackPain', 'Anxiety', 'Allergic_rhinitis', 'Reflux_esophagitis', 'Asthma', 'Services', 'VitD_levels', 'Additional_charges', 'Age', 'Income', 'Doc_visits', 'Full_meals_eaten', 'Population', 'Item1', 'Item2', 'Item3', 'Item4', 'Item5', 'Item6', 'Item7', 'Item8'])"
   ]
  },
  {
   "cell_type": "code",
   "execution_count": 52,
   "metadata": {},
   "outputs": [
    {
     "name": "stdout",
     "output_type": "stream",
     "text": [
      "Unique values in Initial_days: [10.58576971 15.12956221  4.77217721 ... 70.15418    63.3569\n",
      " 70.85059   ]\n",
      "Unique values in TotalCharge: [3726.70286  4193.190458 2434.234222 ... 8276.481    7644.483\n",
      " 7887.553   ]\n"
     ]
    }
   ],
   "source": [
    "# Check unique values for potentially problematic columns\n",
    "for col in [ 'Initial_days', 'TotalCharge']:\n",
    "    print(f\"Unique values in {col}: {dataset[col].unique()}\")\n"
   ]
  },
  {
   "cell_type": "code",
   "execution_count": 53,
   "metadata": {},
   "outputs": [],
   "source": [
    "# Select continuous variables for clustering\n",
    "features = dataset[[ 'Initial_days', 'TotalCharge']]\n"
   ]
  },
  {
   "cell_type": "code",
   "execution_count": 54,
   "metadata": {},
   "outputs": [],
   "source": [
    "from sklearn.preprocessing import StandardScaler\n",
    "\n",
    "# Standardizing the features\n",
    "scaler = StandardScaler()\n",
    "scaled_features = scaler.fit_transform(features)\n",
    "\n",
    "# Convert the scaled features back to a DataFrame for easier interpretation\n",
    "scaled_features_df = pd.DataFrame(scaled_features, columns=features.columns)\n"
   ]
  },
  {
   "cell_type": "code",
   "execution_count": 55,
   "metadata": {},
   "outputs": [
    {
     "name": "stdout",
     "output_type": "stream",
     "text": [
      "ReAdmis          object\n",
      "Initial_days    float64\n",
      "TotalCharge     float64\n",
      "dtype: object\n"
     ]
    }
   ],
   "source": [
    "# Check the data types of each column\n",
    "print(dataset.dtypes)\n"
   ]
  },
  {
   "cell_type": "code",
   "execution_count": 56,
   "metadata": {},
   "outputs": [],
   "source": [
    "# Save the cleaned dataset to a CSV file\n",
    "dataset.to_csv('C:/Users/mbray/OneDrive/Documents/212/new_cleaned_medical_data.csv', index=False)"
   ]
  },
  {
   "cell_type": "code",
   "execution_count": 57,
   "metadata": {},
   "outputs": [
    {
     "name": "stdout",
     "output_type": "stream",
     "text": [
      "Initial_days    0\n",
      "TotalCharge     0\n",
      "dtype: int64\n"
     ]
    }
   ],
   "source": [
    "# Convert specified columns to numeric, forcing errors to NaN\n",
    "numeric_columns = [\n",
    "    'Initial_days',\n",
    "    'TotalCharge',\n",
    "    ]\n",
    "\n",
    "for col in numeric_columns:\n",
    "    dataset[col] = pd.to_numeric(dataset[col], errors='coerce')  # Coerce errors to NaN\n",
    "\n",
    "# Check if there are any NaN values after conversion\n",
    "print(dataset[numeric_columns].isnull().sum())\n"
   ]
  },
  {
   "cell_type": "code",
   "execution_count": 58,
   "metadata": {},
   "outputs": [],
   "source": [
    "# Fill NaN values with the mean of each column\n",
    "dataset[numeric_columns] = dataset[numeric_columns].fillna(dataset[numeric_columns].mean())\n",
    "\n",
    "# Alternatively, you can drop rows with NaN values\n",
    "# df.dropna(subset=numeric_columns, inplace=True)\n"
   ]
  },
  {
   "cell_type": "code",
   "execution_count": 59,
   "metadata": {},
   "outputs": [],
   "source": [
    "from sklearn.preprocessing import StandardScaler\n",
    "\n",
    "scaler = StandardScaler()\n",
    "features_scaled = scaler.fit_transform(features)\n"
   ]
  },
  {
   "cell_type": "code",
   "execution_count": 60,
   "metadata": {},
   "outputs": [],
   "source": [
    "\n",
    "sampled_df = dataset.sample(n=1000, random_state=42)\n",
    "features = dataset[[ 'Initial_days', 'TotalCharge']]\n",
    "\n",
    "# Scale the features\n",
    "scaler = StandardScaler()\n",
    "features_scaled = scaler.fit_transform(features)"
   ]
  },
  {
   "cell_type": "code",
   "execution_count": 61,
   "metadata": {},
   "outputs": [],
   "source": [
    "from sklearn.preprocessing import StandardScaler\n",
    "\n",
    "# Select two continuous variables (e.g., Age and Income)\n",
    "features = dataset[['Initial_days', 'TotalCharge']]  # Replace these with your chosen continuous variables\n",
    "\n",
    "# Scale the features\n",
    "scaler = StandardScaler()\n",
    "features_scaled = scaler.fit_transform(features)\n",
    "\n",
    "# Convert scaled features back to DataFrame (optional, but good for clarity)\n",
    "features_scaled_df = pd.DataFrame(features_scaled, columns=['Initial_days', 'TotalCharge'])\n"
   ]
  },
  {
   "cell_type": "code",
   "execution_count": 62,
   "metadata": {},
   "outputs": [
    {
     "data": {
      "image/png": "[encoded data removed]",
      "text/plain": [
       "<Figure size 640x480 with 1 Axes>"
      ]
     },
     "metadata": {},
     "output_type": "display_data"
    }
   ],
   "source": [
    "import matplotlib.pyplot as plt\n",
    "from sklearn.cluster import KMeans\n",
    "\n",
    "# Calculate WCSS (Within-cluster sum of squares) for a range of k\n",
    "wcss = []\n",
    "for i in range(1, 11):  # Testing for k from 1 to 10 clusters\n",
    "    kmeans = KMeans(n_clusters=i, random_state=42)\n",
    "    kmeans.fit(features_scaled_df)\n",
    "    wcss.append(kmeans.inertia_)  # inertia_ gives the WCSS for the current k\n",
    "\n",
    "# Plot the elbow curve\n",
    "plt.plot(range(1, 11), wcss)\n",
    "plt.title('Elbow Method for Optimal k')\n",
    "plt.xlabel('Number of clusters')\n",
    "plt.ylabel('WCSS')\n",
    "plt.show()\n"
   ]
  },
  {
   "cell_type": "code",
   "execution_count": 63,
   "metadata": {},
   "outputs": [
    {
     "data": {
      "image/png": "[encoded data removed]",
      "text/plain": [
       "<Figure size 1000x600 with 1 Axes>"
      ]
     },
     "metadata": {},
     "output_type": "display_data"
    }
   ],
   "source": [
    "# Specify the features for clustering\n",
    "features = dataset[[ 'Initial_days', 'TotalCharge']]\n",
    "\n",
    "# Define the range of k values to test\n",
    "k_values = range(1, 11)\n",
    "sse = []\n",
    "\n",
    "# Run K-means clustering for each value of k and calculate SSE\n",
    "for k in k_values:\n",
    "    kmeans = KMeans(n_clusters=k, random_state=42)\n",
    "    kmeans.fit(scaled_features_df)\n",
    "    sse.append(kmeans.inertia_)  # SSE is stored in inertia_\n",
    "\n",
    "# Plot the Elbow Curve\n",
    "plt.figure(figsize=(10, 6))\n",
    "plt.plot(k_values, sse, marker='o')\n",
    "plt.title('Elbow Method for Optimal k')\n",
    "plt.xlabel('Number of Clusters (k)')\n",
    "plt.ylabel('Sum of Squared Errors (SSE)')\n",
    "plt.xticks(k_values)\n",
    "plt.grid()\n",
    "plt.show()"
   ]
  },
  {
   "cell_type": "code",
   "execution_count": 64,
   "metadata": {},
   "outputs": [
    {
     "name": "stdout",
     "output_type": "stream",
     "text": [
      "   Initial_days  TotalCharge  Cluster\n",
      "0     -0.907310    -0.727185        0\n",
      "1     -0.734595    -0.513228        0\n",
      "2     -1.128292    -1.319983        0\n",
      "3     -1.244503    -1.460517        0\n",
      "4     -1.261991    -1.467285        0\n",
      "Cluster counts:\n",
      "Cluster\n",
      "0    5002\n",
      "1    4998\n",
      "Name: count, dtype: int64\n"
     ]
    }
   ],
   "source": [
    "kmeans_optimal = KMeans(n_clusters=2, random_state=42)\n",
    "cluster_labels = kmeans_optimal.fit_predict(features_scaled_df)\n",
    "\n",
    "# Add the cluster labels to the scaled DataFrame\n",
    "features_scaled_df['Cluster'] = cluster_labels\n",
    "\n",
    "# Display the first few rows of the DataFrame with cluster labels\n",
    "print(features_scaled_df.head())\n",
    "\n",
    "# Optionally, count the number of samples per cluster\n",
    "cluster_counts = features_scaled_df['Cluster'].value_counts()\n",
    "print(f\"Cluster counts:\\n{cluster_counts}\")\n"
   ]
  },
  {
   "cell_type": "code",
   "execution_count": 65,
   "metadata": {},
   "outputs": [],
   "source": [
    "# Evaluate different numbers of clusters (k) and calculate silhouette scores\n",
    "silhouette_scores = []\n",
    "k_values = range(2, 10)  # Check for k from 2 to 10\n"
   ]
  },
  {
   "cell_type": "code",
   "execution_count": 66,
   "metadata": {},
   "outputs": [
    {
     "name": "stdout",
     "output_type": "stream",
     "text": [
      "Cluster Characteristics:\n",
      "          Initial_days  TotalCharge\n",
      "Cluster                           \n",
      "0           -0.958450    -0.946704\n",
      "1            0.959217     0.947462\n"
     ]
    }
   ],
   "source": [
    "# Analyze the characteristics of each cluster\n",
    "cluster_analysis = features_scaled_df.groupby('Cluster')[['Initial_days', 'TotalCharge']].mean()\n",
    "print(\"Cluster Characteristics:\\n\", cluster_analysis)\n"
   ]
  },
  {
   "cell_type": "code",
   "execution_count": 80,
   "metadata": {},
   "outputs": [
    {
     "name": "stdout",
     "output_type": "stream",
     "text": [
      "Average Silhouette Score for optimal k: 0.773\n"
     ]
    }
   ],
   "source": [
    "# Randomly sample 1000 rows from the dataset\n",
    "sampled_df = features_scaled_df.sample(n=1000, random_state=42)\n",
    "\n",
    "# Fit KMeans with the optimal k (2)\n",
    "kmeans_optimal = KMeans(n_clusters=2, random_state=42)\n",
    "cluster_labels = kmeans_optimal.fit_predict(sampled_df.drop('Cluster', axis=1))\n",
    "\n",
    "# Add the cluster labels to the sampled DataFrame\n",
    "sampled_df['Cluster'] = cluster_labels\n",
    "\n",
    "# Calculate the silhouette score for the optimal k using the sampled DataFrame\n",
    "silhouette_avg_optimal = silhouette_score(sampled_df.drop('Cluster', axis=1), cluster_labels)\n",
    "print(f'Average Silhouette Score for optimal k: {silhouette_avg_optimal:.3f}')\n"
   ]
  },
  {
   "cell_type": "code",
   "execution_count": 71,
   "metadata": {},
   "outputs": [
    {
     "name": "stdout",
     "output_type": "stream",
     "text": [
      "[0 1]\n"
     ]
    }
   ],
   "source": [
    "# Check the unique values in the 'Cluster' column\n",
    "print(features_scaled_df['Cluster'].unique())"
   ]
  },
  {
   "cell_type": "code",
   "execution_count": 72,
   "metadata": {},
   "outputs": [
    {
     "name": "stdout",
     "output_type": "stream",
     "text": [
      "Number of missing values in 'ReAdmis': 0\n"
     ]
    }
   ],
   "source": [
    "# Check for missing values in the 'ReAdmis' column\n",
    "missing_readmis = dataset['ReAdmis'].isnull().sum()\n",
    "print(f\"Number of missing values in 'ReAdmis': {missing_readmis}\")"
   ]
  },
  {
   "cell_type": "code",
   "execution_count": 73,
   "metadata": {},
   "outputs": [],
   "source": [
    "features_scaled_df['ReAdmis'] = dataset['ReAdmis'].values"
   ]
  },
  {
   "cell_type": "code",
   "execution_count": 74,
   "metadata": {},
   "outputs": [
    {
     "name": "stdout",
     "output_type": "stream",
     "text": [
      "Unique values in 'Cluster': [0 1]\n"
     ]
    }
   ],
   "source": [
    "print(\"Unique values in 'Cluster':\", features_scaled_df['Cluster'].unique())"
   ]
  },
  {
   "cell_type": "code",
   "execution_count": 75,
   "metadata": {},
   "outputs": [
    {
     "name": "stdout",
     "output_type": "stream",
     "text": [
      "object\n"
     ]
    }
   ],
   "source": [
    "print(features_scaled_df['ReAdmis'].dtype)"
   ]
  },
  {
   "cell_type": "code",
   "execution_count": 76,
   "metadata": {},
   "outputs": [
    {
     "name": "stdout",
     "output_type": "stream",
     "text": [
      "Readmission Rate by Cluster:\n",
      " Cluster\n",
      "0    0.000000\n",
      "1    0.734094\n",
      "Name: ReAdmis, dtype: float64\n"
     ]
    }
   ],
   "source": [
    "# Assuming 'ReAdmis' has values like 'Yes' and 'No'\n",
    "features_scaled_df['ReAdmis'] = features_scaled_df['ReAdmis'].map({'Yes': 1, 'No': 0})\n",
    "\n",
    "# Now calculate the readmission rate for each cluster\n",
    "readmission_rate_by_cluster = features_scaled_df.groupby('Cluster')['ReAdmis'].mean()\n",
    "print(\"Readmission Rate by Cluster:\\n\", readmission_rate_by_cluster)\n"
   ]
  },
  {
   "cell_type": "code",
   "execution_count": 77,
   "metadata": {},
   "outputs": [
    {
     "name": "stdout",
     "output_type": "stream",
     "text": [
      "Cluster Counts:\n",
      " Cluster\n",
      "0    5002\n",
      "1    4998\n",
      "Name: count, dtype: int64\n"
     ]
    }
   ],
   "source": [
    "print(\"Cluster Counts:\\n\", features_scaled_df['Cluster'].value_counts())"
   ]
  },
  {
   "cell_type": "code",
   "execution_count": 78,
   "metadata": {},
   "outputs": [
    {
     "name": "stdout",
     "output_type": "stream",
     "text": [
      "Cluster 1 has the highest readmission rate at 73.41%\n"
     ]
    }
   ],
   "source": [
    "# Identify the cluster with the higher likelihood of readmission\n",
    "highest_readmission_cluster = readmission_rate_by_cluster.idxmax()\n",
    "highest_rate = readmission_rate_by_cluster.max()\n",
    "print(f'Cluster {highest_readmission_cluster} has the highest readmission rate at {highest_rate:.2%}')\n"
   ]
  },
  {
   "cell_type": "code",
   "execution_count": 79,
   "metadata": {},
   "outputs": [
    {
     "data": {
      "image/png": "[encoded data removed]",
      "text/plain": [
       "<Figure size 640x480 with 1 Axes>"
      ]
     },
     "metadata": {},
     "output_type": "display_data"
    }
   ],
   "source": [
    "import matplotlib.pyplot as plt\n",
    "\n",
    "plt.bar(readmission_rate_by_cluster.index, readmission_rate_by_cluster.values)\n",
    "plt.xlabel('Cluster')\n",
    "plt.ylabel('Average Readmission Rate')\n",
    "plt.title('Readmission Rate by Cluster')\n",
    "plt.show()\n"
   ]
  },
  {
   "cell_type": "code",
   "execution_count": null,
   "metadata": {},
   "outputs": [],
   "source": [
    "# Calculate the mean of features for each cluster\n",
    "cluster_analysis = features_scaled_df.groupby('Cluster').mean(numeric_only=True)\n",
    "print(cluster_analysis)"
   ]
  }
 ],
 "metadata": {
  "kernelspec": {
   "display_name": "Python 3",
   "language": "python",
   "name": "python3"
  },
  "language_info": {
   "codemirror_mode": {
    "name": "ipython",
    "version": 3
   },
   "file_extension": ".py",
   "mimetype": "text/x-python",
   "name": "python",
   "nbconvert_exporter": "python",
   "pygments_lexer": "ipython3",
   "version": "3.10.11"
  }
 },
 "nbformat": 4,
 "nbformat_minor": 2
}
